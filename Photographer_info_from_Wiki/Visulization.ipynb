{
 "cells": [
  {
   "cell_type": "code",
   "execution_count": 13,
   "metadata": {},
   "outputs": [
    {
     "data": {
      "application/vnd.plotly.v1+json": {
       "config": {
        "plotlyServerURL": "https://plot.ly"
       },
       "data": [
        {
         "geo": "geo",
         "hovertemplate": "<b>%{hovertext}</b><br><br>lat=%{lat}<br>lon=%{lon}<extra></extra>",
         "hovertext": [
          "Alec Soth",
          "Alex Prager",
          "Alex Webb",
          "Alexander Rodchenko",
          "Alfred Stieglitz",
          "Andreas Feininger",
          "Andreas Gursky",
          "AndrÃ© KertÃ©sz",
          "Angus McBean",
          "Annie Leibovitz",
          "Ansel Adams",
          "Anton Corbijn",
          "Ari Marcopoulos",
          "Arnold Newman",
          "August Sander",
          "Barbara Kasten",
          "Berenice Abbott",
          "Bernard Faucon",
          "Bernd and Hilla Becher",
          "Bert Hardy",
          "Bert Stern",
          "Bill Brandt",
          "Bill Cunningham",
          "Bob Carlos Clarke",
          "Boris Mikhailov",
          "BrassaÃ¯",
          "Brian Duffy",
          "Bruce Davidson",
          "Bruce Weber",
          "Camille Seaman",
          "Camille Silvy",
          "Candida Hofer",
          "Catherine Opie",
          "Cecil Beaton",
          "Charles Sheeler",
          "Chris Killip",
          "Chuck Close",
          "Cindy Sherman",
          "Clyde Butcher",
          "Corinne Day",
          "DaidÅ Moriyama",
          "David Bailey",
          "David Hockney",
          "David LaChapelle",
          "David Loftus",
          "David Sims",
          "Deborah Turbeville",
          "Diane Arbus",
          "Don McCullin",
          "Doug Rickard",
          "Duane Michals",
          "Edward Burtynsky",
          "Edward Steichen",
          "Edward Weston",
          "Ellen Von Unwerth",
          "Elliott Erwitt",
          "Eric Boman",
          "Erwin Blumenfeld",
          "Eugene Richards",
          "EugÃ¨ne Atget",
          "Eve Arnold",
          "Francesca Woodman",
          "Frank Horvat",
          "Garry Winogrand",
          "George Hurrell",
          "Gillian Wearing",
          "Gjon Mili",
          "Gordon Parks",
          "Gregory Crewdson",
          "Gustave Le Gray",
          "Guy Bourdin",
          "Harri Peccinotti",
          "Harry Gruyaert",
          "Helen Levitt",
          "Helmut Newton",
          "Henri Cartier-Bresson",
          "Herb Ritts",
          "Hiroshi Sugimoto",
          "Horst P. Horst",
          "Imogen Cunningham",
          "Irving Penn",
          "Iwan Baan",
          "Jacques Henri Lartigue",
          "Jamel Shabazz",
          "James Nachtwey",
          "Jan Groover",
          "Jane Bown",
          "Jeanloup Sieff",
          "Jeff Wall",
          "Jill Freedman",
          "Joel Meyerowitz",
          "Joel Peter Witkin",
          "Joel Sternfeld",
          "John Divola",
          "John Rankin Waddell",
          "John Sexton",
          "Juergen Teller",
          "Julia Margaret Cameron",
          "Kirsty Mitchell",
          "Larry Clark",
          "Larry Sultan",
          "Larry Towell",
          "Laura Levine",
          "Lee Friedlander",
          "Lee Miller",
          "Leni Riefenstahl",
          "Lewis Hine",
          "Lillian Bassman",
          "Lisa Oppenheim",
          "Lord Snowdon",
          "Loretta Lux",
          "Louise Lawler",
          "Lucinda Devlin",
          "Lyle Ashton Harris",
          "Lynsey Addario",
          "LÃ¡szlÃ³ Moholy-Nagy",
          "Man Ray",
          "Marcus Piggott",
          "Margaret Bourke-White",
          "Mario Testino",
          "Martha Cooper",
          "Martin Parr",
          "Martin Schoeller",
          "Mary Ellen Mark",
          "Masahisa Fukase",
          "Matthew Brady",
          "Michael Thompson",
          "Mick Rock",
          "Mishaka Henner",
          "Mitch Epstein",
          "Morris Engel",
          "Nadar",
          "Nancy Burson",
          "Nancy Goldin",
          "Nicholas Nixon",
          "Nick Knight",
          "Nobuyoshi Araki",
          "Norman Parkinson",
          "O. Winston Link",
          "Oliviero Toscani",
          "Omar Victor Diop",
          "Paolo Roversi",
          "Patrick Demarchelier",
          "Paul Graham",
          "Paul Strand",
          "Peter Beard",
          "Peter Lindbergh",
          "Philip Jones Griffiths",
          "Philip-Lorca diCorcia",
          "Pierre Commoy",
          "Platon",
          "Raghubir Singh",
          "Ralph Gibson",
          "Rankin",
          "Richard Avedon",
          "Richard Billingham",
          "Richard Misrach",
          "Richard Mosse",
          "Rineke Dijkstra",
          "Rinko Kawauchi",
          "Robert Adams",
          "Robert Capa",
          "Robert Doisneau",
          "Robert Frank",
          "Robert Mapplethorpe",
          "Robert Polidori",
          "Roger Ballen",
          "Roger Fenton",
          "Ruth Orkin",
          "Ryan McGinley",
          "Sally Mann",
          "Sandy Skoglund",
          "Sarah Moon",
          "Saul Leiter",
          "SebastiÃ£o Salgado",
          "Shirin Neshat",
          "Simon Norfolk",
          "Slim Aarons",
          "Sophie Calle",
          "Stephen Shore",
          "Steven Meisel",
          "Terry Richardson",
          "Thomas Demand",
          "Thomas Ruff",
          "Thomas Struth",
          "Tim Hetherington",
          "Tim Page",
          "Tim Walker",
          "Todd Hido",
          "Tony Ray-Jones",
          "Trent Parke",
          "Tyler Mitchell",
          "Vivian Maier",
          "Viviane Sassen",
          "Walker Evans",
          "Weegee",
          "William Eggleston",
          "William Eugene Smith",
          "William Klein",
          "Wolfgang Tillmans",
          "Zanele Muholi"
         ],
         "lat": [
          null,
          51.4376108,
          46.3144754,
          39.7611067,
          51.4376108,
          46.3144754,
          51.1638175,
          48.257986,
          52.2928116,
          51.4376108,
          51.4376108,
          52.2434979,
          46.3144754,
          51.4376108,
          39.7611067,
          31.39480005,
          39.7837304,
          46.603354,
          46.3144754,
          52.5310214,
          51.4376108,
          39.7611067,
          46.3144754,
          52.865196,
          46.3144754,
          35.1982216,
          46.3144754,
          46.3144754,
          46.3144754,
          46.16988589096478,
          46.603354,
          46.3144754,
          39.7837304,
          51.5074456,
          39.7837304,
          54.1936805,
          51.4376108,
          51.4376108,
          38.7604815,
          -33.7392777,
          36.5748441,
          52.5310214,
          52.5310214,
          51.4376108,
          46.3144754,
          46.3144754,
          42.3788774,
          51.4376108,
          52.5310214,
          -26.659406547826087,
          50.8662434,
          61.0666922,
          49.6112768,
          39.7837304,
          46.3144754,
          46.603354,
          46.3144754,
          51.1638175,
          51.4376108,
          46.603354,
          51.4376108,
          51.4376108,
          42.6384261,
          39.7837304,
          null,
          52.5310214,
          39.7611067,
          51.4376108,
          53.96565785,
          46.603354,
          46.603354,
          46.3144754,
          46.3144754,
          51.4376108,
          51.1638175,
          46.603354,
          51.4376108,
          36.5748441,
          39.7611067,
          51.4376108,
          51.4376108,
          52.2434979,
          46.603354,
          53.96565785,
          39.7837304,
          49.2214561,
          46.3144754,
          46.3144754,
          61.0666922,
          51.4376108,
          51.4376108,
          46.3144754,
          51.4376108,
          46.3144754,
          46.3144754,
          51.4376108,
          51.1638175,
          42.696907100000004,
          56.7861112,
          51.4376108,
          39.7837304,
          61.0666922,
          39.7837304,
          51.4376108,
          51.4376108,
          39.7611067,
          51.4376108,
          51.4376108,
          51.527658200000005,
          46.3144754,
          51.1638175,
          51.4376108,
          -26.7896501,
          53.96565785,
          51.4376108,
          48.257986,
          51.4376108,
          46.3144754,
          51.4376108,
          -6.8699697,
          39.2908816,
          52.5310214,
          51.1638175,
          39.7837304,
          46.3144754,
          52.5310214,
          46.3144754,
          null,
          46.3144754,
          51.4376108,
          51.4376108,
          46.603354,
          46.3144754,
          46.3144754,
          51.4376108,
          46.3144754,
          36.5748441,
          52.5310214,
          51.4376108,
          42.6384261,
          14.4750607,
          46.3144754,
          46.603354,
          46.3144754,
          51.4376108,
          null,
          52.215933,
          52.2928116,
          39.7837304,
          46.3144754,
          46.3144754,
          46.3144754,
          51.4376108,
          46.3144754,
          51.4376108,
          46.3144754,
          51.4376108,
          52.865196,
          52.2434979,
          36.5748441,
          46.3144754,
          48.257986,
          46.603354,
          46.7985624,
          51.4376108,
          61.0666922,
          51.4376108,
          52.5310214,
          42.3788774,
          51.4376108,
          51.4376108,
          51.4376108,
          46.603354,
          39.7837304,
          -10.3333333,
          32.6475314,
          9.6000359,
          51.4376108,
          46.603354,
          39.7837304,
          51.4376108,
          51.4376108,
          51.1638175,
          51.1638175,
          51.1638175,
          52.5310214,
          46.3144754,
          50.8439831,
          null,
          52.5310214,
          46.3144754,
          46.3144754,
          51.4376108,
          52.3730796,
          51.4376108,
          39.7611067,
          51.4376108,
          46.3144754,
          46.3144754,
          51.1638175,
          11.5024338
         ],
         "legendgroup": "",
         "lon": [
          null,
          7.3303862,
          11.0480288,
          -105.682998,
          7.3303862,
          11.0480288,
          10.4478313,
          14.4992625,
          -3.73893,
          7.3303862,
          7.3303862,
          5.6343227,
          11.0480288,
          7.3303862,
          -105.682998,
          34.63358319049945,
          -100.445882,
          1.8883335,
          11.0480288,
          -1.2649062,
          7.3303862,
          -105.682998,
          11.0480288,
          -7.9794599,
          11.0480288,
          -82.7724889,
          11.0480288,
          11.0480288,
          11.0480288,
          7.450868247243492,
          1.8883335,
          11.0480288,
          -100.445882,
          -0.1277653,
          -100.445882,
          -4.5591148,
          7.3303862,
          7.3303862,
          -92.5617875,
          -61.9804039,
          139.2394179,
          -1.2649062,
          -1.2649062,
          7.3303862,
          11.0480288,
          11.0480288,
          -72.032366,
          7.3303862,
          -1.2649062,
          27.93220110869565,
          4.436057980426469,
          -107.991707,
          6.129799,
          -100.445882,
          11.0480288,
          1.8883335,
          11.0480288,
          10.4478313,
          7.3303862,
          1.8883335,
          7.3303862,
          7.3303862,
          12.674297,
          -100.445882,
          null,
          -1.2649062,
          -105.682998,
          7.3303862,
          -1.0743052444639218,
          1.8883335,
          1.8883335,
          11.0480288,
          11.0480288,
          7.3303862,
          10.4478313,
          1.8883335,
          7.3303862,
          139.2394179,
          -105.682998,
          7.3303862,
          7.3303862,
          5.6343227,
          1.8883335,
          -1.0743052444639218,
          -100.445882,
          -2.1358386,
          11.0480288,
          11.0480288,
          -107.991707,
          7.3303862,
          7.3303862,
          11.0480288,
          7.3303862,
          11.0480288,
          11.0480288,
          7.3303862,
          10.4478313,
          23.32384047593429,
          -4.1140518,
          7.3303862,
          -100.445882,
          -107.991707,
          -100.445882,
          7.3303862,
          7.3303862,
          -105.682998,
          7.3303862,
          7.3303862,
          -0.10352447335648303,
          11.0480288,
          10.4478313,
          7.3303862,
          27.8301447375,
          -1.0743052444639218,
          7.3303862,
          14.4992625,
          7.3303862,
          11.0480288,
          7.3303862,
          -75.0458515,
          -76.610759,
          -1.2649062,
          10.4478313,
          -100.445882,
          11.0480288,
          -1.2649062,
          11.0480288,
          null,
          11.0480288,
          7.3303862,
          7.3303862,
          1.8883335,
          11.0480288,
          11.0480288,
          7.3303862,
          11.0480288,
          139.2394179,
          -1.2649062,
          7.3303862,
          12.674297,
          -14.4529612,
          11.0480288,
          1.8883335,
          11.0480288,
          7.3303862,
          null,
          19.134422,
          -3.73893,
          -100.445882,
          11.0480288,
          11.0480288,
          11.0480288,
          7.3303862,
          11.0480288,
          7.3303862,
          11.0480288,
          7.3303862,
          -7.9794599,
          5.6343227,
          139.2394179,
          11.0480288,
          14.4992625,
          1.8883335,
          8.2319736,
          7.3303862,
          -107.991707,
          7.3303862,
          -1.2649062,
          -72.032366,
          7.3303862,
          7.3303862,
          7.3303862,
          1.8883335,
          -100.445882,
          -53.2,
          54.5643516,
          7.9999721,
          7.3303862,
          1.8883335,
          -100.445882,
          7.3303862,
          7.3303862,
          10.4478313,
          10.4478313,
          10.4478313,
          -1.2649062,
          11.0480288,
          4.490206425340506,
          null,
          -1.2649062,
          11.0480288,
          11.0480288,
          7.3303862,
          4.8924534,
          7.3303862,
          -105.682998,
          7.3303862,
          11.0480288,
          11.0480288,
          10.4478313,
          17.7578122
         ],
         "marker": {
          "color": "#636efa",
          "symbol": "circle"
         },
         "mode": "markers",
         "name": "",
         "showlegend": false,
         "type": "scattergeo"
        }
       ],
       "layout": {
        "geo": {
         "center": {},
         "domain": {
          "x": [
           0,
           1
          ],
          "y": [
           0,
           1
          ]
         },
         "projection": {
          "type": "natural earth"
         }
        },
        "legend": {
         "tracegroupgap": 0
        },
        "template": {
         "data": {
          "bar": [
           {
            "error_x": {
             "color": "#2a3f5f"
            },
            "error_y": {
             "color": "#2a3f5f"
            },
            "marker": {
             "line": {
              "color": "#E5ECF6",
              "width": 0.5
             },
             "pattern": {
              "fillmode": "overlay",
              "size": 10,
              "solidity": 0.2
             }
            },
            "type": "bar"
           }
          ],
          "barpolar": [
           {
            "marker": {
             "line": {
              "color": "#E5ECF6",
              "width": 0.5
             },
             "pattern": {
              "fillmode": "overlay",
              "size": 10,
              "solidity": 0.2
             }
            },
            "type": "barpolar"
           }
          ],
          "carpet": [
           {
            "aaxis": {
             "endlinecolor": "#2a3f5f",
             "gridcolor": "white",
             "linecolor": "white",
             "minorgridcolor": "white",
             "startlinecolor": "#2a3f5f"
            },
            "baxis": {
             "endlinecolor": "#2a3f5f",
             "gridcolor": "white",
             "linecolor": "white",
             "minorgridcolor": "white",
             "startlinecolor": "#2a3f5f"
            },
            "type": "carpet"
           }
          ],
          "choropleth": [
           {
            "colorbar": {
             "outlinewidth": 0,
             "ticks": ""
            },
            "type": "choropleth"
           }
          ],
          "contour": [
           {
            "colorbar": {
             "outlinewidth": 0,
             "ticks": ""
            },
            "colorscale": [
             [
              0,
              "#0d0887"
             ],
             [
              0.1111111111111111,
              "#46039f"
             ],
             [
              0.2222222222222222,
              "#7201a8"
             ],
             [
              0.3333333333333333,
              "#9c179e"
             ],
             [
              0.4444444444444444,
              "#bd3786"
             ],
             [
              0.5555555555555556,
              "#d8576b"
             ],
             [
              0.6666666666666666,
              "#ed7953"
             ],
             [
              0.7777777777777778,
              "#fb9f3a"
             ],
             [
              0.8888888888888888,
              "#fdca26"
             ],
             [
              1,
              "#f0f921"
             ]
            ],
            "type": "contour"
           }
          ],
          "contourcarpet": [
           {
            "colorbar": {
             "outlinewidth": 0,
             "ticks": ""
            },
            "type": "contourcarpet"
           }
          ],
          "heatmap": [
           {
            "colorbar": {
             "outlinewidth": 0,
             "ticks": ""
            },
            "colorscale": [
             [
              0,
              "#0d0887"
             ],
             [
              0.1111111111111111,
              "#46039f"
             ],
             [
              0.2222222222222222,
              "#7201a8"
             ],
             [
              0.3333333333333333,
              "#9c179e"
             ],
             [
              0.4444444444444444,
              "#bd3786"
             ],
             [
              0.5555555555555556,
              "#d8576b"
             ],
             [
              0.6666666666666666,
              "#ed7953"
             ],
             [
              0.7777777777777778,
              "#fb9f3a"
             ],
             [
              0.8888888888888888,
              "#fdca26"
             ],
             [
              1,
              "#f0f921"
             ]
            ],
            "type": "heatmap"
           }
          ],
          "heatmapgl": [
           {
            "colorbar": {
             "outlinewidth": 0,
             "ticks": ""
            },
            "colorscale": [
             [
              0,
              "#0d0887"
             ],
             [
              0.1111111111111111,
              "#46039f"
             ],
             [
              0.2222222222222222,
              "#7201a8"
             ],
             [
              0.3333333333333333,
              "#9c179e"
             ],
             [
              0.4444444444444444,
              "#bd3786"
             ],
             [
              0.5555555555555556,
              "#d8576b"
             ],
             [
              0.6666666666666666,
              "#ed7953"
             ],
             [
              0.7777777777777778,
              "#fb9f3a"
             ],
             [
              0.8888888888888888,
              "#fdca26"
             ],
             [
              1,
              "#f0f921"
             ]
            ],
            "type": "heatmapgl"
           }
          ],
          "histogram": [
           {
            "marker": {
             "pattern": {
              "fillmode": "overlay",
              "size": 10,
              "solidity": 0.2
             }
            },
            "type": "histogram"
           }
          ],
          "histogram2d": [
           {
            "colorbar": {
             "outlinewidth": 0,
             "ticks": ""
            },
            "colorscale": [
             [
              0,
              "#0d0887"
             ],
             [
              0.1111111111111111,
              "#46039f"
             ],
             [
              0.2222222222222222,
              "#7201a8"
             ],
             [
              0.3333333333333333,
              "#9c179e"
             ],
             [
              0.4444444444444444,
              "#bd3786"
             ],
             [
              0.5555555555555556,
              "#d8576b"
             ],
             [
              0.6666666666666666,
              "#ed7953"
             ],
             [
              0.7777777777777778,
              "#fb9f3a"
             ],
             [
              0.8888888888888888,
              "#fdca26"
             ],
             [
              1,
              "#f0f921"
             ]
            ],
            "type": "histogram2d"
           }
          ],
          "histogram2dcontour": [
           {
            "colorbar": {
             "outlinewidth": 0,
             "ticks": ""
            },
            "colorscale": [
             [
              0,
              "#0d0887"
             ],
             [
              0.1111111111111111,
              "#46039f"
             ],
             [
              0.2222222222222222,
              "#7201a8"
             ],
             [
              0.3333333333333333,
              "#9c179e"
             ],
             [
              0.4444444444444444,
              "#bd3786"
             ],
             [
              0.5555555555555556,
              "#d8576b"
             ],
             [
              0.6666666666666666,
              "#ed7953"
             ],
             [
              0.7777777777777778,
              "#fb9f3a"
             ],
             [
              0.8888888888888888,
              "#fdca26"
             ],
             [
              1,
              "#f0f921"
             ]
            ],
            "type": "histogram2dcontour"
           }
          ],
          "mesh3d": [
           {
            "colorbar": {
             "outlinewidth": 0,
             "ticks": ""
            },
            "type": "mesh3d"
           }
          ],
          "parcoords": [
           {
            "line": {
             "colorbar": {
              "outlinewidth": 0,
              "ticks": ""
             }
            },
            "type": "parcoords"
           }
          ],
          "pie": [
           {
            "automargin": true,
            "type": "pie"
           }
          ],
          "scatter": [
           {
            "fillpattern": {
             "fillmode": "overlay",
             "size": 10,
             "solidity": 0.2
            },
            "type": "scatter"
           }
          ],
          "scatter3d": [
           {
            "line": {
             "colorbar": {
              "outlinewidth": 0,
              "ticks": ""
             }
            },
            "marker": {
             "colorbar": {
              "outlinewidth": 0,
              "ticks": ""
             }
            },
            "type": "scatter3d"
           }
          ],
          "scattercarpet": [
           {
            "marker": {
             "colorbar": {
              "outlinewidth": 0,
              "ticks": ""
             }
            },
            "type": "scattercarpet"
           }
          ],
          "scattergeo": [
           {
            "marker": {
             "colorbar": {
              "outlinewidth": 0,
              "ticks": ""
             }
            },
            "type": "scattergeo"
           }
          ],
          "scattergl": [
           {
            "marker": {
             "colorbar": {
              "outlinewidth": 0,
              "ticks": ""
             }
            },
            "type": "scattergl"
           }
          ],
          "scattermapbox": [
           {
            "marker": {
             "colorbar": {
              "outlinewidth": 0,
              "ticks": ""
             }
            },
            "type": "scattermapbox"
           }
          ],
          "scatterpolar": [
           {
            "marker": {
             "colorbar": {
              "outlinewidth": 0,
              "ticks": ""
             }
            },
            "type": "scatterpolar"
           }
          ],
          "scatterpolargl": [
           {
            "marker": {
             "colorbar": {
              "outlinewidth": 0,
              "ticks": ""
             }
            },
            "type": "scatterpolargl"
           }
          ],
          "scatterternary": [
           {
            "marker": {
             "colorbar": {
              "outlinewidth": 0,
              "ticks": ""
             }
            },
            "type": "scatterternary"
           }
          ],
          "surface": [
           {
            "colorbar": {
             "outlinewidth": 0,
             "ticks": ""
            },
            "colorscale": [
             [
              0,
              "#0d0887"
             ],
             [
              0.1111111111111111,
              "#46039f"
             ],
             [
              0.2222222222222222,
              "#7201a8"
             ],
             [
              0.3333333333333333,
              "#9c179e"
             ],
             [
              0.4444444444444444,
              "#bd3786"
             ],
             [
              0.5555555555555556,
              "#d8576b"
             ],
             [
              0.6666666666666666,
              "#ed7953"
             ],
             [
              0.7777777777777778,
              "#fb9f3a"
             ],
             [
              0.8888888888888888,
              "#fdca26"
             ],
             [
              1,
              "#f0f921"
             ]
            ],
            "type": "surface"
           }
          ],
          "table": [
           {
            "cells": {
             "fill": {
              "color": "#EBF0F8"
             },
             "line": {
              "color": "white"
             }
            },
            "header": {
             "fill": {
              "color": "#C8D4E3"
             },
             "line": {
              "color": "white"
             }
            },
            "type": "table"
           }
          ]
         },
         "layout": {
          "annotationdefaults": {
           "arrowcolor": "#2a3f5f",
           "arrowhead": 0,
           "arrowwidth": 1
          },
          "autotypenumbers": "strict",
          "coloraxis": {
           "colorbar": {
            "outlinewidth": 0,
            "ticks": ""
           }
          },
          "colorscale": {
           "diverging": [
            [
             0,
             "#8e0152"
            ],
            [
             0.1,
             "#c51b7d"
            ],
            [
             0.2,
             "#de77ae"
            ],
            [
             0.3,
             "#f1b6da"
            ],
            [
             0.4,
             "#fde0ef"
            ],
            [
             0.5,
             "#f7f7f7"
            ],
            [
             0.6,
             "#e6f5d0"
            ],
            [
             0.7,
             "#b8e186"
            ],
            [
             0.8,
             "#7fbc41"
            ],
            [
             0.9,
             "#4d9221"
            ],
            [
             1,
             "#276419"
            ]
           ],
           "sequential": [
            [
             0,
             "#0d0887"
            ],
            [
             0.1111111111111111,
             "#46039f"
            ],
            [
             0.2222222222222222,
             "#7201a8"
            ],
            [
             0.3333333333333333,
             "#9c179e"
            ],
            [
             0.4444444444444444,
             "#bd3786"
            ],
            [
             0.5555555555555556,
             "#d8576b"
            ],
            [
             0.6666666666666666,
             "#ed7953"
            ],
            [
             0.7777777777777778,
             "#fb9f3a"
            ],
            [
             0.8888888888888888,
             "#fdca26"
            ],
            [
             1,
             "#f0f921"
            ]
           ],
           "sequentialminus": [
            [
             0,
             "#0d0887"
            ],
            [
             0.1111111111111111,
             "#46039f"
            ],
            [
             0.2222222222222222,
             "#7201a8"
            ],
            [
             0.3333333333333333,
             "#9c179e"
            ],
            [
             0.4444444444444444,
             "#bd3786"
            ],
            [
             0.5555555555555556,
             "#d8576b"
            ],
            [
             0.6666666666666666,
             "#ed7953"
            ],
            [
             0.7777777777777778,
             "#fb9f3a"
            ],
            [
             0.8888888888888888,
             "#fdca26"
            ],
            [
             1,
             "#f0f921"
            ]
           ]
          },
          "colorway": [
           "#636efa",
           "#EF553B",
           "#00cc96",
           "#ab63fa",
           "#FFA15A",
           "#19d3f3",
           "#FF6692",
           "#B6E880",
           "#FF97FF",
           "#FECB52"
          ],
          "font": {
           "color": "#2a3f5f"
          },
          "geo": {
           "bgcolor": "white",
           "lakecolor": "white",
           "landcolor": "#E5ECF6",
           "showlakes": true,
           "showland": true,
           "subunitcolor": "white"
          },
          "hoverlabel": {
           "align": "left"
          },
          "hovermode": "closest",
          "mapbox": {
           "style": "light"
          },
          "paper_bgcolor": "white",
          "plot_bgcolor": "#E5ECF6",
          "polar": {
           "angularaxis": {
            "gridcolor": "white",
            "linecolor": "white",
            "ticks": ""
           },
           "bgcolor": "#E5ECF6",
           "radialaxis": {
            "gridcolor": "white",
            "linecolor": "white",
            "ticks": ""
           }
          },
          "scene": {
           "xaxis": {
            "backgroundcolor": "#E5ECF6",
            "gridcolor": "white",
            "gridwidth": 2,
            "linecolor": "white",
            "showbackground": true,
            "ticks": "",
            "zerolinecolor": "white"
           },
           "yaxis": {
            "backgroundcolor": "#E5ECF6",
            "gridcolor": "white",
            "gridwidth": 2,
            "linecolor": "white",
            "showbackground": true,
            "ticks": "",
            "zerolinecolor": "white"
           },
           "zaxis": {
            "backgroundcolor": "#E5ECF6",
            "gridcolor": "white",
            "gridwidth": 2,
            "linecolor": "white",
            "showbackground": true,
            "ticks": "",
            "zerolinecolor": "white"
           }
          },
          "shapedefaults": {
           "line": {
            "color": "#2a3f5f"
           }
          },
          "ternary": {
           "aaxis": {
            "gridcolor": "white",
            "linecolor": "white",
            "ticks": ""
           },
           "baxis": {
            "gridcolor": "white",
            "linecolor": "white",
            "ticks": ""
           },
           "bgcolor": "#E5ECF6",
           "caxis": {
            "gridcolor": "white",
            "linecolor": "white",
            "ticks": ""
           }
          },
          "title": {
           "x": 0.05
          },
          "xaxis": {
           "automargin": true,
           "gridcolor": "white",
           "linecolor": "white",
           "ticks": "",
           "title": {
            "standoff": 15
           },
           "zerolinecolor": "white",
           "zerolinewidth": 2
          },
          "yaxis": {
           "automargin": true,
           "gridcolor": "white",
           "linecolor": "white",
           "ticks": "",
           "title": {
            "standoff": 15
           },
           "zerolinecolor": "white",
           "zerolinewidth": 2
          }
         }
        },
        "title": {
         "text": "Photographers' Birth Locations"
        }
       }
      }
     },
     "metadata": {},
     "output_type": "display_data"
    }
   ],
   "source": [
    "import pandas as pd\n",
    "import plotly.express as px\n",
    "from geopy.geocoders import Nominatim\n",
    "import time\n",
    "\n",
    "# 初始化地理编码器（注意：需要设置一个 user_agent）\n",
    "geolocator = Nominatim(user_agent=\"photographer_geocoder\")\n",
    "\n",
    "def geocode_location(loc):\n",
    "    try:\n",
    "        location = geolocator.geocode(loc)\n",
    "        # 为了避免请求过快，稍作延时\n",
    "        if location:\n",
    "            return location.latitude, location.longitude\n",
    "    except Exception as e:\n",
    "        print(f\"Error geocoding {loc}: {e}\")\n",
    "    return None, None\n",
    "\n",
    "# 读取 CSV 文件，假设文件中有 \"Name\" 和 \"BirthLocation\" 列\n",
    "df = pd.read_csv(\"Photographers_V1.0.csv\", encoding=\"ISO-8859-1\")\n",
    "\n",
    "# 对 BirthLocation 进行地理编码，生成纬度和经度两列\n",
    "df['lat'], df['lon'] = zip(*df['BirthLocation'].apply(geocode_location))\n",
    "\n",
    "# 使用 Plotly Express 绘制世界地图\n",
    "fig = px.scatter_geo(df,\n",
    "                     lat='lat',\n",
    "                     lon='lon',\n",
    "                     hover_name=\"Name\",\n",
    "                     title=\"Photographers' Birth Locations\",\n",
    "                     projection=\"natural earth\")\n",
    "\n",
    "fig.show()"
   ]
  },
  {
   "cell_type": "code",
   "execution_count": 8,
   "metadata": {},
   "outputs": [
    {
     "name": "stdout",
     "output_type": "stream",
     "text": [
      "Collecting geopy"
     ]
    },
    {
     "name": "stderr",
     "output_type": "stream",
     "text": [
      "\n",
      "[notice] A new release of pip is available: 23.1.2 -> 25.0.1\n",
      "[notice] To update, run: python.exe -m pip install --upgrade pip\n"
     ]
    },
    {
     "name": "stdout",
     "output_type": "stream",
     "text": [
      "\n",
      "  Downloading geopy-2.4.1-py3-none-any.whl (125 kB)\n",
      "                                              0.0/125.4 kB ? eta -:--:--\n",
      "     -------------------------------------- 125.4/125.4 kB 7.2 MB/s eta 0:00:00\n",
      "Collecting geographiclib<3,>=1.52 (from geopy)\n",
      "  Downloading geographiclib-2.0-py3-none-any.whl (40 kB)\n",
      "                                              0.0/40.3 kB ? eta -:--:--\n",
      "     ---------------------------------------- 40.3/40.3 kB ? eta 0:00:00\n",
      "Installing collected packages: geographiclib, geopy\n",
      "Successfully installed geographiclib-2.0 geopy-2.4.1\n"
     ]
    }
   ],
   "source": [
    "!pip install geopy"
   ]
  }
 ],
 "metadata": {
  "kernelspec": {
   "display_name": "energprediction_env",
   "language": "python",
   "name": "python3"
  },
  "language_info": {
   "codemirror_mode": {
    "name": "ipython",
    "version": 3
   },
   "file_extension": ".py",
   "mimetype": "text/x-python",
   "name": "python",
   "nbconvert_exporter": "python",
   "pygments_lexer": "ipython3",
   "version": "3.8.16"
  }
 },
 "nbformat": 4,
 "nbformat_minor": 2
}
